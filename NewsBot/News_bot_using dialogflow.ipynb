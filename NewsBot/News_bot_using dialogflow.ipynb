{
 "cells": [
  {
   "cell_type": "code",
   "execution_count": 65,
   "metadata": {},
   "outputs": [],
   "source": [
    "import os\n",
    "os.environ[\"GOOGLE_APPLICATION_CREDENTIALS\"] = \"client_news_bot.json\"\n",
    "import dialogflow_v2 as dialogflow\n",
    "dialogflow_session_client = dialogflow.SessionsClient()\n",
    "PROJECT_ID = \"newsbot-qnnm\""
   ]
  },
  {
   "cell_type": "code",
   "execution_count": 66,
   "metadata": {},
   "outputs": [],
   "source": [
    "def detect_intent_from_text(text,session_id,language_code = 'en'):\n",
    "    session = dialogflow_session_client.session_path(PROJECT_ID,session_id)\n",
    "    text_input = dialogflow.types.TextInput(text=text,language_code=language_code)\n",
    "    query_input = dialogflow.types.QueryInput(text = text_input)\n",
    "    response = dialogflow_session_client.detect_intent(session=session,query_input = query_input)\n",
    "    return response.query_result"
   ]
  },
  {
   "cell_type": "code",
   "execution_count": 71,
   "metadata": {},
   "outputs": [],
   "source": [
    "response = detect_intent_from_text(\"India sports news in Hindi\",12345)"
   ]
  },
  {
   "cell_type": "code",
   "execution_count": 72,
   "metadata": {},
   "outputs": [
    {
     "name": "stdout",
     "output_type": "stream",
     "text": [
      "query_text: \"India sports news in Hindi\"\n",
      "parameters {\n",
      "  fields {\n",
      "    key: \"geo-capital\"\n",
      "    value {\n",
      "      string_value: \"\"\n",
      "    }\n",
      "  }\n",
      "  fields {\n",
      "    key: \"geo-city\"\n",
      "    value {\n",
      "      string_value: \"\"\n",
      "    }\n",
      "  }\n",
      "  fields {\n",
      "    key: \"geo-country\"\n",
      "    value {\n",
      "      list_value {\n",
      "        values {\n",
      "          string_value: \"India\"\n",
      "        }\n",
      "      }\n",
      "    }\n",
      "  }\n",
      "  fields {\n",
      "    key: \"geo-state\"\n",
      "    value {\n",
      "      string_value: \"\"\n",
      "    }\n",
      "  }\n",
      "  fields {\n",
      "    key: \"language\"\n",
      "    value {\n",
      "      list_value {\n",
      "        values {\n",
      "          string_value: \"Hindi\"\n",
      "        }\n",
      "      }\n",
      "    }\n",
      "  }\n",
      "  fields {\n",
      "    key: \"topic\"\n",
      "    value {\n",
      "      list_value {\n",
      "        values {\n",
      "          string_value: \"Sports\"\n",
      "        }\n",
      "      }\n",
      "    }\n",
      "  }\n",
      "}\n",
      "all_required_params_present: true\n",
      "fulfillment_messages {\n",
      "  text {\n",
      "    text: \"\"\n",
      "  }\n",
      "}\n",
      "intent {\n",
      "  name: \"projects/newsbot-qnnm/agent/intents/966d0a91-51ae-4307-b105-76016bc9e6ed\"\n",
      "  display_name: \"get_news\"\n",
      "}\n",
      "intent_detection_confidence: 0.6159877181053162\n",
      "language_code: \"en\"\n",
      "\n"
     ]
    }
   ],
   "source": [
    "print(response)"
   ]
  },
  {
   "cell_type": "code",
   "execution_count": 81,
   "metadata": {},
   "outputs": [
    {
     "name": "stdout",
     "output_type": "stream",
     "text": [
      "Hindi\n",
      "India\n",
      "Sports\n"
     ]
    }
   ],
   "source": [
    "x = dict(response.parameters)\n",
    "# x\n",
    "print(str(x.get('language').values[0].string_value))\n",
    "print(str(x.get('geo-country').values[0].string_value))\n",
    "print(str(x.get('topic').values[0].string_value))\n",
    "# print(x.get('geo-country'))"
   ]
  },
  {
   "cell_type": "code",
   "execution_count": 74,
   "metadata": {},
   "outputs": [],
   "source": [
    "from gnewsclient import gnewsclient\n"
   ]
  },
  {
   "cell_type": "code",
   "execution_count": 75,
   "metadata": {},
   "outputs": [],
   "source": [
    "client = gnewsclient.NewsClient()"
   ]
  },
  {
   "cell_type": "code",
   "execution_count": 76,
   "metadata": {},
   "outputs": [
    {
     "data": {
      "text/plain": [
       "{'location': 'United States', 'language': 'english', 'topic': 'Top Stories'}"
      ]
     },
     "execution_count": 76,
     "metadata": {},
     "output_type": "execute_result"
    }
   ],
   "source": [
    "client.get_config()"
   ]
  },
  {
   "cell_type": "code",
   "execution_count": 77,
   "metadata": {},
   "outputs": [],
   "source": [
    "client.location = 'India'\n",
    "client.language = 'Telugu'\n",
    "client.topic = 'Sports'"
   ]
  },
  {
   "cell_type": "code",
   "execution_count": 78,
   "metadata": {},
   "outputs": [
    {
     "name": "stdout",
     "output_type": "stream",
     "text": [
      "Suresh Raina: చెన్నై సూపర్‌ కింగ్స్‌కు ఇకపై సురేష్ రైనా ఆడడా.. కారణం ఇదేనా?!! - myKhel Telugu\n",
      "చెస్‌ క్రీడాకారులకు బిశ్వభూషణ్‌ అభినందన - Eenadu\n",
      "ఐపీఎల్ కోసం 1988 కరోనా టెస్టులు చేసిన బీసీసీఐ... - - NTV Telugu\n",
      "కోహ్లీ సరసన నిలిచిన పాక్ క్రికెటర్ బాబర్ అజామ్! - ap7am\n",
      "కోహ్లీకి బౌలింగ్‌ చేయడం ఎప్పటికీ కష్టమే.. అయినా నాకు సరదాగా ఉంటుంది - myKhel Telugu\n"
     ]
    }
   ],
   "source": [
    "articles = client.get_news()[:5]\n",
    "for article in articles:\n",
    "    print(article['title'])"
   ]
  },
  {
   "cell_type": "code",
   "execution_count": 1,
   "metadata": {},
   "outputs": [
    {
     "name": "stdout",
     "output_type": "stream",
     "text": [
      "e\n",
      "er\n"
     ]
    }
   ],
   "source": [
    "try:\n",
    "    x = 10/0\n",
    "except:\n",
    "    print(\"e\")\n",
    "try:\n",
    "    y=5/0\n",
    "except:\n",
    "    print(\"er\")"
   ]
  },
  {
   "cell_type": "code",
   "execution_count": null,
   "metadata": {},
   "outputs": [],
   "source": []
  }
 ],
 "metadata": {
  "kernelspec": {
   "display_name": "Python 3",
   "language": "python",
   "name": "python3"
  },
  "language_info": {
   "codemirror_mode": {
    "name": "ipython",
    "version": 3
   },
   "file_extension": ".py",
   "mimetype": "text/x-python",
   "name": "python",
   "nbconvert_exporter": "python",
   "pygments_lexer": "ipython3",
   "version": "3.7.1"
  }
 },
 "nbformat": 4,
 "nbformat_minor": 2
}
