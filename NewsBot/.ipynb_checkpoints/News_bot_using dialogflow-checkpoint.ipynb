{
 "cells": [
  {
   "cell_type": "code",
   "execution_count": 47,
   "metadata": {},
   "outputs": [],
   "source": [
    "import os\n",
    "os.environ[\"GOOGLE_APPLICATION_CREDENTIALS\"] = \"client_news_bot.json\"\n",
    "import dialogflow_v2 as dialogflow\n",
    "dialogflow_session_client = dialogflow.SessionsClient()\n",
    "PROJECT_ID = \"newsbot-qnnm\""
   ]
  },
  {
   "cell_type": "code",
   "execution_count": 48,
   "metadata": {},
   "outputs": [],
   "source": [
    "def detect_intent_from_text(text,session_id,language_code = 'en'):\n",
    "    session = dialogflow_session_client.session_path(PROJECT_ID,session_id)\n",
    "    text_input = dialogflow.types.TextInput(text=text,language_code=language_code)\n",
    "    query_input = dialogflow.types.QueryInput(text = text_input)\n",
    "    response = dialogflow_session_client.detect_intent(session=session,query_input = query_input)\n",
    "    return response.query_result"
   ]
  },
  {
   "cell_type": "code",
   "execution_count": 49,
   "metadata": {},
   "outputs": [],
   "source": [
    "response = detect_intent_from_text(\"Hindi sports news in india\",12345)"
   ]
  },
  {
   "cell_type": "code",
   "execution_count": 50,
   "metadata": {},
   "outputs": [
    {
     "name": "stdout",
     "output_type": "stream",
     "text": [
      "query_text: \"Hindi sports news in india\"\n",
      "parameters {\n",
      "  fields {\n",
      "    key: \"geo-country\"\n",
      "    value {\n",
      "      list_value {\n",
      "      }\n",
      "    }\n",
      "  }\n",
      "  fields {\n",
      "    key: \"language\"\n",
      "    value {\n",
      "      list_value {\n",
      "        values {\n",
      "          string_value: \"Hindi\"\n",
      "        }\n",
      "        values {\n",
      "          string_value: \"India\"\n",
      "        }\n",
      "      }\n",
      "    }\n",
      "  }\n",
      "  fields {\n",
      "    key: \"topic\"\n",
      "    value {\n",
      "      list_value {\n",
      "        values {\n",
      "          string_value: \"Sports\"\n",
      "        }\n",
      "      }\n",
      "    }\n",
      "  }\n",
      "}\n",
      "all_required_params_present: true\n",
      "fulfillment_messages {\n",
      "  text {\n",
      "    text: \"\"\n",
      "  }\n",
      "}\n",
      "intent {\n",
      "  name: \"projects/newsbot-qnnm/agent/intents/966d0a91-51ae-4307-b105-76016bc9e6ed\"\n",
      "  display_name: \"get_news\"\n",
      "}\n",
      "intent_detection_confidence: 0.5956603288650513\n",
      "language_code: \"en\"\n",
      "\n"
     ]
    }
   ],
   "source": [
    "print(response)"
   ]
  },
  {
   "cell_type": "code",
   "execution_count": 46,
   "metadata": {},
   "outputs": [
    {
     "data": {
      "text/plain": [
       "'Hindi'"
      ]
     },
     "execution_count": 46,
     "metadata": {},
     "output_type": "execute_result"
    }
   ],
   "source": [
    "x = dict(response.parameters)\n",
    "# x\n",
    "str(x.get('language').values[0].string_value)\n",
    "x.get_lo"
   ]
  },
  {
   "cell_type": "code",
   "execution_count": 9,
   "metadata": {},
   "outputs": [
    {
     "name": "stderr",
     "output_type": "stream",
     "text": [
      "/Users/hothrikd/anaconda3/lib/python3.7/site-packages/fuzzywuzzy/fuzz.py:11: UserWarning: Using slow pure-python SequenceMatcher. Install python-Levenshtein to remove this warning\n",
      "  warnings.warn('Using slow pure-python SequenceMatcher. Install python-Levenshtein to remove this warning')\n"
     ]
    }
   ],
   "source": [
    "from gnewsclient import gnewsclient"
   ]
  },
  {
   "cell_type": "code",
   "execution_count": 10,
   "metadata": {},
   "outputs": [],
   "source": [
    "client = gnewsclient.NewsClient()"
   ]
  },
  {
   "cell_type": "code",
   "execution_count": 11,
   "metadata": {},
   "outputs": [
    {
     "data": {
      "text/plain": [
       "{'location': 'United States', 'language': 'english', 'topic': 'Top Stories'}"
      ]
     },
     "execution_count": 11,
     "metadata": {},
     "output_type": "execute_result"
    }
   ],
   "source": [
    "client.get_config()"
   ]
  },
  {
   "cell_type": "code",
   "execution_count": 12,
   "metadata": {},
   "outputs": [],
   "source": [
    "client.location = 'India'\n",
    "client.language = 'Telugu'\n",
    "client.topic = 'Sports'"
   ]
  },
  {
   "cell_type": "code",
   "execution_count": 17,
   "metadata": {},
   "outputs": [
    {
     "name": "stdout",
     "output_type": "stream",
     "text": [
      "అష్రాఫ్ చాచాకి సచిన్ టెండూల్కర్ ఆర్థిక సాయం..! - Telugu News - Samayam\n",
      "IPL 2020: ముగిసిన క్వారంటైన్‌.. మైదానంలో ప్రాక్టీస్!! - myKhel Telugu\n",
      "ధోనీని అతిగా పొగుడుతావా..? బీసీసీఐని విమర్శిస్తావా? పీసీబీ సీరియస్ - వెబ్ దునియా\n",
      "ధోనిని పొగిడి పీసీబీ ఆగ్రహానికి గురైన పాక్ క్రికెటర్... - - NTV Telugu\n",
      "బుమ్రా.. నీ టార్గెట్‌ కనీసం 400 - ఈనాడు.నెట్\n"
     ]
    }
   ],
   "source": [
    "articles = client.get_news()[:5]\n",
    "for article in articles:\n",
    "    print(article['title'])"
   ]
  },
  {
   "cell_type": "code",
   "execution_count": null,
   "metadata": {},
   "outputs": [],
   "source": []
  },
  {
   "cell_type": "code",
   "execution_count": null,
   "metadata": {},
   "outputs": [],
   "source": []
  }
 ],
 "metadata": {
  "kernelspec": {
   "display_name": "Python 3",
   "language": "python",
   "name": "python3"
  },
  "language_info": {
   "codemirror_mode": {
    "name": "ipython",
    "version": 3
   },
   "file_extension": ".py",
   "mimetype": "text/x-python",
   "name": "python",
   "nbconvert_exporter": "python",
   "pygments_lexer": "ipython3",
   "version": "3.7.1"
  }
 },
 "nbformat": 4,
 "nbformat_minor": 2
}
